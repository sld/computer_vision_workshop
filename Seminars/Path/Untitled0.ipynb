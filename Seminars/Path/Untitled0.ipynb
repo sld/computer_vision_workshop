{
 "metadata": {
  "name": "",
  "signature": "sha256:23f1e2df951845265ed7dde8b3eade33a6d9a2687b46b82c12580437fe10bab2"
 },
 "nbformat": 3,
 "nbformat_minor": 0,
 "worksheets": []
}